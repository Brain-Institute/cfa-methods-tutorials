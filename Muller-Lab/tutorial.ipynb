{
 "cells": [
  {
   "cell_type": "markdown",
   "metadata": {},
   "source": [
    "# NETSIM Installation and Usage Tutorial\n",
    "\n",
    "The tutorial below explains how to install and compile NETSIM, run demo simulations, analyze outputs using MATLAB, and leverage a Python interface for additional functionality."
   ]
  },
  {
   "cell_type": "markdown",
   "metadata": {},
   "source": [
    "## 1. Unzipping NETSIM \n",
    "\n",
    "To begin working with NETSIM, start by unzipping the package in your working directory—a process that typically takes less than 10 seconds."
   ]
  },
  {
   "cell_type": "markdown",
   "metadata": {},
   "source": [
    "## 2. Navigating to the NETSIM Folder\n",
    "\n",
    "After unzipping, open your terminal and change the working directory to the NETSIM folder."
   ]
  },
  {
   "cell_type": "markdown",
   "metadata": {},
   "source": [
    "## 3. Compiling NETSIM\n",
    "\n",
    "Since prior builds might conflict with new compilations, it is advisable to run the following command to remove any remnants of previous compilations.\n",
    "\n",
    "*(Note: The following code cell contains a shell command. To run it in a Python-based Jupyter notebook, you might need to prefix it with `!` or use the `%%bash` cell magic.)*"
   ]
  },
  {
   "cell_type": "code",
   "execution_count": null,
   "metadata": {},
   "outputs": [],
   "source": [
    "make clean"
   ]
  },
  {
   "cell_type": "markdown",
   "metadata": {},
   "source": [
    "Once the directory is cleared, compile the source code with performance settings by running:\n",
    "\n",
    "*(Note: The following code cell contains a shell command. To run it in a Python-based Jupyter notebook, you might need to prefix it with `!` or use the `%%bash` cell magic.)*"
   ]
  },
  {
   "cell_type": "code",
   "execution_count": null,
   "metadata": {},
   "outputs": [],
   "source": [
    "make COMPILE_TYPE=performance"
   ]
  },
  {
   "cell_type": "markdown",
   "metadata": {},
   "source": [
    "This entire procedure ordinarily finishes in under 30 seconds."
   ]
  },
  {
   "cell_type": "markdown",
   "metadata": {},
   "source": [
    "## 4. Running a Demo Simulation\n",
    "\n",
    "After installation, you can run a demo simulation by executing NETSIM with a sample parameter file. For example, entering the command below instructs NETSIM to read the simulation parameters from the file “test1.parameters” and save the output in the current directory.\n",
    "\n",
    "*(Note: The following code cell contains a shell command. To run it in a Python-based Jupyter notebook, you might need to prefix it with `!` or use the `%%bash` cell magic. Ensure paths are correct relative to your notebook's execution directory or use absolute paths.)*"
   ]
  },
  {
   "cell_type": "code",
   "execution_count": null,
   "metadata": {},
   "outputs": [],
   "source": [
    "./netsim -f ./tests/test1.parameters -o ."
   ]
  },
  {
   "cell_type": "markdown",
   "metadata": {},
   "source": [
    "Once the simulation runs—which usually lasts around 60 seconds—the terminal should display that a total of **343298 spikes** were generated, and several binary files (such as `00000002individual.bin`, `00000002gi.bin`, `00000002ge.bin`, among others) will be created."
   ]
  },
  {
   "cell_type": "markdown",
   "metadata": {},
   "source": [
    "## 5. Analyzing Output with MATLAB\n",
    "\n",
    "For researchers who wish to analyze the simulation output, MATLAB provides an efficient approach. \n",
    "\n",
    "*(Note: The following code cell contains MATLAB code.*"
   ]
  },
  {
   "cell_type": "code",
   "execution_count": null,
   "metadata": {},
   "outputs": [],
   "source": [
    "[ids, times] = load_netsim_spikes('../00000002spk.bin');\n",
    "\n",
    "% Once the data is loaded, create a raster plot by issuing the command\n",
    "plot(times, ids, '.k')\n",
    "xlabel('id')\n",
    "ylabel('time (s)')"
   ]
  },
  {
   "cell_type": "markdown",
   "metadata": {},
   "source": [
    "## 6. Using the Python Interface (pyNetsim)\n",
    "\n",
    "For those who prefer working with Python, NETSIM is accessible through the `pyNetsim` package, which offers an object-oriented interface.\n",
    "\n",
    "First, install the package (if you haven't already):\n",
    "\n",
    "*(Note: The following code cell contains a shell command for pip install. To run it in a Python-based Jupyter notebook, you might need to prefix it with `!`.)*"
   ]
  },
  {
   "cell_type": "code",
   "execution_count": null,
   "metadata": {},
   "outputs": [],
   "source": [
    "pip install git+https://github.com/mullerlab/NETSIM-dev.git"
   ]
  },
  {
   "cell_type": "markdown",
   "metadata": {},
   "source": [
    "Once installed, integrate NETSIM into your Python workflow by importing the package:"
   ]
  },
  {
   "cell_type": "code",
   "execution_count": null,
   "metadata": {},
   "outputs": [],
   "source": [
    "import pyNetsim.netsim as netsim"
   ]
  },
  {
   "cell_type": "markdown",
   "metadata": {},
   "source": [
    "You can then create a NETSIM object by specifying the parameter file (replace `<path-to-parameter-file>` with the actual path):"
   ]
  },
  {
   "cell_type": "code",
   "execution_count": null,
   "metadata": {},
   "outputs": [],
   "source": [
    "net = netsim.netsim(params='<path-to-parameter-file>')"
   ]
  },
  {
   "cell_type": "markdown",
   "metadata": {},
   "source": [
    "And run the simulation via:"
   ]
  },
  {
   "cell_type": "code",
   "execution_count": null,
   "metadata": {},
   "outputs": [],
   "source": [
    "net.run()"
   ]
  },
  {
   "cell_type": "markdown",
   "metadata": {},
   "source": [
    "After the simulation completes, retrieve the results using:"
   ]
  },
  {
   "cell_type": "code",
   "execution_count": null,
   "metadata": {},
   "outputs": [],
   "source": [
    "res = net.get_results(reshape=True)\n",
    "print(res)"
   ]
  },
  {
   "cell_type": "markdown",
   "metadata": {},
   "source": [
    "If it is necessary to modify parameters and rerun the simulation, simply adjust the parameters by executing:"
   ]
  },
  {
   "cell_type": "code",
   "execution_count": null,
   "metadata": {},
   "outputs": [],
   "source": [
    "net.set_params(ge=1e-8)\n",
    "# # And run the simulation again\n",
    "net.run()"
   ]
  },
  {
   "cell_type": "markdown",
   "metadata": {},
   "source": [
    "## 7. Advanced Analysis\n",
    "\n",
    "In addition to running simulations, NETSIM supports detailed analysis and optimization. On the analysis side, you can compute important metrics such as pairwise spike correlation, coefficients of variation, and firing rate. This is achieved by executing a command like the following within your simulation environment (assuming `simulation` is your `netsim` object, e.g., `net` from the previous steps):"
   ]
  },
  {
   "cell_type": "code",
   "execution_count": null,
   "metadata": {},
   "outputs": [],
   "source": [
    "# Assuming 'net' is your netsim object from the Python interface section\n",
    "# results = net.analyze(['pairwise_spike_correlation',\n",
    "#                          'coefficients_of_variation',\n",
    "#                          'firing_rate'],\n",
    "#                         dt=1e-4, bin_size=500)\n",
    "# print(results)"
   ]
  },
  {
   "cell_type": "markdown",
   "metadata": {},
   "source": [
    "## 8. Parameter Optimization with neverSim\n",
    "\n",
    "NETSIM also integrates with the `neverSim` package to facilitate optimization of simulation parameters. This functionality uses iterative approaches guided by a user-defined cost function. An illustrative example of the optimization workflow is provided below. You can paste the following code directly into your Python editor (or a Jupyter cell).\n",
    "\n",
    "First, ensure `neverSim` is installed (e.g., `!pip install neverSim` if not already). You would also need your NETSIM setup accessible to this Python environment."
   ]
  },
  {
   "cell_type": "code",
   "execution_count": null,
   "metadata": {},
   "outputs": [],
   "source": [
    "import neverSim\n",
    "import json\n",
    "\n",
    "# Define parameters\n",
    "params = {\n",
    "    \"param1\": [1.0, 0.5, 2.0],\n",
    "    \"param2\": [10, 5, 15]\n",
    "}\n",
    "\n",
    "# Convert parameters to JSON string as expected by the main function\n",
    "# params_json = json.dumps(params) # Not directly used by optimize_NETSIM, but good to know\n",
    "\n",
    "# Define a simple user cost function\n",
    "# This function would typically interact with NETSIM or analyze its output\n",
    "# For this example, it's kept simple.\n",
    "def user_cost_example():\n",
    "    # In a real scenario, this function would:\n",
    "    # 1. Run a NETSIM simulation with parameters set by neverSim.\n",
    "    # 2. Analyze the output.\n",
    "    # 3. Return a cost value (float).\n",
    "    # For now, it just returns a dummy value.\n",
    "    print(\"User cost function called (example - returns dummy value)\")\n",
    "    return 100.0\n",
    "\n",
    "# Call the optimize_NETSIM function\n",
    "# Note: You'll need to ensure NETSIM is correctly configured for neverSim to call it.\n",
    "# The 'params' argument to optimize_NETSIM should be the dictionary, not the JSON string here.\n",
    "# The 'user_cost' function provided to optimize_NETSIM will be called by neverSim.\n",
    "\n",
    "# This is an illustrative call. Actual usage may require NETSIM to be callable\n",
    "# and the user_cost function to be implemented to interact with NETSIM runs.\n",
    "try:\n",
    "    print(\"Attempting to call neverSim.optimize_NETSIM (this is illustrative).\")\n",
    "    print(\"Ensure NETSIM and its dependencies are correctly set up for neverSim.\")\n",
    "    # neverSim.optimize_NETSIM(\n",
    "    #     opt='OnePlusOne',\n",
    "    #     params=params,  # The dictionary of parameters to tune\n",
    "    #     out_dir='./output_neversim_example', # Ensure this directory can be written to\n",
    "    #     user_cost=user_cost_example, # Your actual cost function\n",
    "    #     itrs=5, # Reduced for quick example; original was 40\n",
    "    #     workers=1 # Reduced for quick example; original was 4\n",
    "    #     # You might need to pass netsim_path or other specific args depending on neverSim setup\n",
    "    # )\n",
    "    print(\"Call to neverSim.optimize_NETSIM commented out to prevent errors in a generic setup.\")\n",
    "    print(\"Refer to neverSim documentation for actual usage with NETSIM.\")\n",
    "except Exception as e:\n",
    "    print(f\"Error during neverSim example setup (as expected if not fully configured): {e}\")"
   ]
  },
  {
   "cell_type": "markdown",
   "metadata": {},
   "source": [
    "In this example, the optimization function `neverSim.optimize_NETSIM()` takes the parameters to be tuned, defines the output directory (“./output”), uses a user cost function that simply returns 100, and runs the optimization for 40 iterations across 4 worker processes. This process automates parameter tuning, thereby enhancing simulation performance and ensuring that NETSIM operates at peak efficiency."
   ]
  }
 ],
 "metadata": {
  "kernelspec": {
   "display_name": "Python 3 (ipykernel)",
   "language": "python",
   "name": "python3"
  },
  "language_info": {
   "codemirror_mode": {
    "name": "ipython",
    "version": 3
   },
   "file_extension": ".py",
   "mimetype": "text/x-python",
   "name": "python",
   "nbconvert_exporter": "python",
   "pygments_lexer": "ipython3",
   "version": "3.x"
  }
 },
 "nbformat": 4,
 "nbformat_minor": 5
}
